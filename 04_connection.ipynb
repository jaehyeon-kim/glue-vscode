{
 "cells": [
  {
   "cell_type": "code",
   "execution_count": 1,
   "source": [
    "import sys\n",
    "from pyspark.context import SparkContext\n",
    "from awsglue.context import GlueContext\n",
    "from awsglue import DynamicFrame\n",
    "from awsglue.utils import getResolvedOptions\n",
    "\n",
    "glueContext = GlueContext(SparkContext.getOrCreate())\n",
    "spark = glueContext.spark_session"
   ],
   "outputs": [],
   "metadata": {}
  },
  {
   "cell_type": "code",
   "execution_count": 7,
   "source": [
    "df = spark.createDataFrame(\n",
    "    [(\"charly\", 15), (\"fabien\", 18), (\"sam\", 21), (\"sam\", 25), (\"nick\", 19), (\"nick\", 40)],\n",
    "    [\"name\", \"age\"],\n",
    ")\n",
    "\n",
    "\n",
    "dyf = DynamicFrame.fromDF(df, glueContext, 'dyf')\n",
    "\n",
    "dyf.toDF().show()"
   ],
   "outputs": [
    {
     "output_type": "stream",
     "name": "stdout",
     "text": [
      "+------+---+\n",
      "|  name|age|\n",
      "+------+---+\n",
      "|charly| 15|\n",
      "|fabien| 18|\n",
      "|   sam| 21|\n",
      "|   sam| 25|\n",
      "|  nick| 19|\n",
      "|  nick| 40|\n",
      "+------+---+\n",
      "\n"
     ]
    },
    {
     "output_type": "execute_result",
     "data": {
      "text/plain": [
       "6"
      ]
     },
     "metadata": {},
     "execution_count": 7
    }
   ],
   "metadata": {}
  }
 ],
 "metadata": {
  "orig_nbformat": 4,
  "language_info": {
   "name": "python",
   "version": "3.6.10",
   "mimetype": "text/x-python",
   "codemirror_mode": {
    "name": "ipython",
    "version": 3
   },
   "pygments_lexer": "ipython3",
   "nbconvert_exporter": "python",
   "file_extension": ".py"
  },
  "kernelspec": {
   "name": "python3",
   "display_name": "Python 3.6.10 64-bit"
  },
  "interpreter": {
   "hash": "4cd7ab41f5fca4b9b44701077e38c5ffd31fe66a6cab21e0214b68d958d0e462"
  }
 },
 "nbformat": 4,
 "nbformat_minor": 2
}